{
 "cells": [
  {
   "cell_type": "code",
   "execution_count": 3,
   "metadata": {},
   "outputs": [],
   "source": [
    "import os\n",
    "from keras.callbacks import LearningRateScheduler\n",
    "from keras.callbacks import ModelCheckpoint\n",
    "from keras.callbacks import CSVLogger\n",
    "\n",
    "from datasets import DataManager\n",
    "from models.experimental_loss import MultiboxLoss\n",
    "from models import SSD300\n",
    "from keras.optimizers import SGD\n",
    "# from utils.generator import ImageGenerator\n",
    "from utils.sequencer_manager import SequenceManager\n",
    "from utils.boxes import create_prior_boxes\n",
    "from utils.boxes import to_point_form\n",
    "from utils.training_utils import LearningRateManager\n"
   ]
  },
  {
   "cell_type": "code",
   "execution_count": 11,
   "metadata": {},
   "outputs": [],
   "source": [
    "# hyper-parameters\n",
    "batch_size = 3\n",
    "num_epochs = 233\n",
    "image_shape = (300, 300, 3)\n",
    "box_scale_factors = [.1, .1, .2, .2]\n",
    "negative_positive_ratio = 3\n",
    "learning_rate = 1e-4\n",
    "weight_decay = 5e-4\n",
    "momentum = .9\n",
    "optimizer = SGD(learning_rate, momentum, decay=weight_decay)\n",
    "# optimizer = 'adam'\n",
    "decay = 0.1\n",
    "step_epochs = [154, 193, 232]\n",
    "randomize_top = True\n",
    "weights_path = '../trained_models/VGG16_weights.hdf5'\n",
    "train_datasets = 'VOC2007'\n",
    "train_splits = 'trainval'\n",
    "val_dataset = 'VOC2007'\n",
    "val_split = 'test'\n",
    "class_names = 'all'\n",
    "difficult_boxes = True\n",
    "model_path = '../trained_models/SSD_SGD_scratch_all2/'\n",
    "save_path = model_path + 'weights.{epoch:02d}-{val_loss:.2f}.hdf5'"
   ]
  },
  {
   "cell_type": "code",
   "execution_count": 12,
   "metadata": {},
   "outputs": [],
   "source": [
    "train_data_manager = DataManager(train_datasets, train_splits,\n",
    "                                 class_names, difficult_boxes)\n",
    "train_data = train_data_manager.load_data()\n",
    "class_names = train_data_manager.class_names\n",
    "num_classes = len(class_names)\n",
    "val_data_manager = DataManager(val_dataset, val_split, class_names, False)\n",
    "val_data = val_data_manager.load_data()"
   ]
  },
  {
   "cell_type": "code",
   "execution_count": 18,
   "metadata": {},
   "outputs": [
    {
     "name": "stdout",
     "output_type": "stream",
     "text": [
      "[[ 0.174       0.13333333  0.742       0.83466667  0.          0.          0.\n",
      "   0.          0.          0.          0.          0.          0.          0.\n",
      "   0.          0.          1.          0.          0.          0.          0.\n",
      "   0.          0.          0.          0.        ]\n",
      " [ 0.558       0.48266667  0.926       1.          0.          0.          0.\n",
      "   0.          0.          0.          0.          0.          0.          0.\n",
      "   0.          0.          1.          0.          0.          0.          0.\n",
      "   0.          0.          0.          0.        ]\n",
      " [ 0.732       0.00266667  0.978       0.54933333  0.          0.          0.\n",
      "   0.          0.          0.          0.          0.          0.          0.\n",
      "   0.          0.          0.          0.          0.          1.          0.\n",
      "   0.          0.          0.          0.        ]]\n"
     ]
    }
   ],
   "source": [
    "print(val_data['../datasets/VOCdevkit/VOC2007/JPEGImages/006915.jpg'])\n"
   ]
  },
  {
   "cell_type": "code",
   "execution_count": null,
   "metadata": {},
   "outputs": [],
   "source": []
  },
  {
   "cell_type": "code",
   "execution_count": null,
   "metadata": {},
   "outputs": [],
   "source": []
  },
  {
   "cell_type": "code",
   "execution_count": null,
   "metadata": {},
   "outputs": [],
   "source": []
  },
  {
   "cell_type": "code",
   "execution_count": null,
   "metadata": {},
   "outputs": [],
   "source": []
  }
 ],
 "metadata": {
  "kernelspec": {
   "display_name": "Python 2",
   "language": "python",
   "name": "python2"
  },
  "language_info": {
   "codemirror_mode": {
    "name": "ipython",
    "version": 3
   },
   "file_extension": ".py",
   "mimetype": "text/x-python",
   "name": "python",
   "nbconvert_exporter": "python",
   "pygments_lexer": "ipython3",
   "version": "3.5.2"
  }
 },
 "nbformat": 4,
 "nbformat_minor": 1
}
